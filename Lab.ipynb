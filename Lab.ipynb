{
  "nbformat": 4,
  "nbformat_minor": 5,
  "metadata": {
    "kernelspec": {
      "display_name": "Python 3",
      "language": "python",
      "name": "python3"
    },
    "language_info": {
      "codemirror_mode": {
        "name": "ipython",
        "version": 3
      },
      "file_extension": ".py",
      "mimetype": "text/x-python",
      "name": "python",
      "nbconvert_exporter": "python",
      "pygments_lexer": "ipython3",
      "version": "3.8.8"
    },
    "colab": {
      "name": "Lab.ipynb",
      "provenance": [],
      "collapsed_sections": [
        "16d55435"
      ],
      "include_colab_link": true
    }
  },
  "cells": [
    {
      "cell_type": "markdown",
      "metadata": {
        "id": "view-in-github",
        "colab_type": "text"
      },
      "source": [
        "<a href=\"https://colab.research.google.com/github/fdelcorso/Lab/blob/main/Lab.ipynb\" target=\"_parent\"><img src=\"https://colab.research.google.com/assets/colab-badge.svg\" alt=\"Open In Colab\"/></a>"
      ]
    },
    {
      "cell_type": "markdown",
      "metadata": {
        "id": "gS3-8B2h6_8Z"
      },
      "source": [
        "\n",
        "\n",
        "# Laboratorio di Matematica e Fisica Applicata - Laurea Triennale di Meccatronica\n",
        " Docente: prof. Alessandro Gabrielli (alessandro.gabrielli@unibo.it)\n",
        " \n",
        " Tutor: Francesca Del Corso (francesca.delcorso@unibo.it)\n",
        "\n",
        "A.A. 2021/2022\n"
      ],
      "id": "gS3-8B2h6_8Z"
    },
    {
      "cell_type": "markdown",
      "metadata": {
        "id": "16d55435"
      },
      "source": [
        "###   **Calcolo di π = 4*Ac/Aq utilizzando il metodo Monte Carlo.**\n",
        "\n",
        "Semplificazione: il centro del cerchio ha coordinate (0,0) e raggio 1. x in [-1,1], y in [-1,1]"
      ],
      "id": "16d55435"
    },
    {
      "cell_type": "code",
      "metadata": {
        "id": "ac6b903a"
      },
      "source": [
        "import matplotlib.pyplot as plt\n",
        "import numpy as np\n",
        "import random"
      ],
      "id": "ac6b903a",
      "execution_count": 31,
      "outputs": []
    },
    {
      "cell_type": "markdown",
      "metadata": {
        "id": "3iVfKJWt76Xh"
      },
      "source": [
        ""
      ],
      "id": "3iVfKJWt76Xh"
    },
    {
      "cell_type": "code",
      "metadata": {
        "id": "8c092654",
        "colab": {
          "base_uri": "https://localhost:8080/"
        },
        "outputId": "30d50e4e-6bd4-4070-fc8c-784a4ca42b3a"
      },
      "source": [
        "N = int(input(\"Inserisci il numero di punti per approssimare π: \")) "
      ],
      "id": "8c092654",
      "execution_count": 32,
      "outputs": [
        {
          "name": "stdout",
          "output_type": "stream",
          "text": [
            "Inserisci il numero di punti per approssimare π: 1000\n"
          ]
        }
      ]
    },
    {
      "cell_type": "code",
      "metadata": {
        "id": "c3ebac23"
      },
      "source": [
        "puntiCerchio = 0\n",
        "\n",
        "X = []      # (X,Y) sono le coppie di valori dentro il cerchio\n",
        "Y =[]\n",
        "X_out =[]   # (X_out,Y_out) sono le coppie di valori fuori dal cerchio ma dentro il quadrato circoscritto\n",
        "Y_out =[]\n",
        "for i in range(N):\n",
        "    x = random.uniform(-1.0,1.0)          \n",
        "    y = random.uniform(-1.0,1.0)\n",
        "    if (x**2+y**2 <= 1):\n",
        "        X.append(x)\n",
        "        Y.append(y)\n",
        "        puntiCerchio += 1\n",
        "    else:   \n",
        "        X_out.append(x)\n",
        "        Y_out.append(y)\n",
        "\n",
        "pigreco = 4*puntiCerchio/N"
      ],
      "id": "c3ebac23",
      "execution_count": 33,
      "outputs": []
    },
    {
      "cell_type": "code",
      "metadata": {
        "colab": {
          "base_uri": "https://localhost:8080/"
        },
        "id": "992e85ac",
        "outputId": "80cbaf77-196b-4107-88bb-7fb23c208689"
      },
      "source": [
        "print(\"Valore approssimato di pigreco per \" + str(N) + \" punti: \" + str(pigreco) )"
      ],
      "id": "992e85ac",
      "execution_count": 34,
      "outputs": [
        {
          "output_type": "stream",
          "name": "stdout",
          "text": [
            "Valore approssimato di pigreco per 1000 punti: 3.18\n"
          ]
        }
      ]
    },
    {
      "cell_type": "markdown",
      "metadata": {
        "id": "i9acREVo5nbZ"
      },
      "source": [
        "Precisione"
      ],
      "id": "i9acREVo5nbZ"
    },
    {
      "cell_type": "code",
      "metadata": {
        "id": "cJXbBniY5oVh",
        "colab": {
          "base_uri": "https://localhost:8080/"
        },
        "outputId": "502a4c41-0854-4df8-fc71-9ae1100e76de"
      },
      "source": [
        "pi = np.pi\n",
        "err = pigreco/pi\n",
        "prec = abs(1-err)*100\n",
        "print(f'Precisione:  {prec:.3f} % ')"
      ],
      "id": "cJXbBniY5oVh",
      "execution_count": 35,
      "outputs": [
        {
          "output_type": "stream",
          "name": "stdout",
          "text": [
            "Precisione:  1.223 % \n"
          ]
        }
      ]
    },
    {
      "cell_type": "markdown",
      "metadata": {
        "id": "nIuAPC9I58dU"
      },
      "source": [
        "Plot"
      ],
      "id": "nIuAPC9I58dU"
    },
    {
      "cell_type": "code",
      "metadata": {
        "id": "b660e0e4"
      },
      "source": [
        "plt.scatter(X, Y, color=\"green\", marker   =\".\")\n",
        "plt.scatter(X_out, Y_out, color=\"red\", marker   =\".\")\n",
        "\n",
        "# disegno la circonferenza\n",
        "x_coord = np.linspace(-1,1)         # default: 50 valori\n",
        "y_coord = np.sqrt(1-(x_coord**2))\n",
        "plt.plot(x_coord, y_coord, color= \"k\")\n",
        "plt.plot(x_coord, -y_coord, color= \"k\")\n",
        "\n",
        "plt.title(\"Calcolo π con metodo Monte Carlo\")\n",
        "%timeit plt.show()\n",
        "plt.close()"
      ],
      "id": "b660e0e4",
      "execution_count": null,
      "outputs": []
    }
  ]
}